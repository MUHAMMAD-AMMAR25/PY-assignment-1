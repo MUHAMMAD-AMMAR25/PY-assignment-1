{
 "cells": [
  {
   "cell_type": "markdown",
   "id": "1720ac28",
   "metadata": {},
   "source": [
    "For loop:"
   ]
  },
  {
   "cell_type": "markdown",
   "id": "2a99122f",
   "metadata": {},
   "source": [
    "Create a list of all numbers between 1 and 100 that are divisible by both 3 and 5."
   ]
  },
  {
   "cell_type": "code",
   "execution_count": 2,
   "id": "59deef33",
   "metadata": {},
   "outputs": [
    {
     "name": "stdout",
     "output_type": "stream",
     "text": [
      "[3, 5, 6, 9, 10, 12, 15, 18, 20, 21, 24, 25, 27, 30, 33, 35, 36, 39, 40, 42, 45, 48, 50, 51, 54, 55, 57, 60, 63, 65, 66, 69, 70, 72, 75, 78, 80, 81, 84, 85, 87, 90, 93, 95, 96, 99, 100]\n"
     ]
    }
   ],
   "source": [
    "a=[]\n",
    "for i in range(1,101):\n",
    "    if i%3==0 or i%5==0:\n",
    "        a.append(i)\n",
    "print(a)\n"
   ]
  },
  {
   "cell_type": "markdown",
   "id": "2e6f111d",
   "metadata": {},
   "source": [
    "Write a loop that replaces all spaces in a string with underscores."
   ]
  },
  {
   "cell_type": "code",
   "execution_count": 1,
   "id": "4a498bc4",
   "metadata": {},
   "outputs": [
    {
     "name": "stdout",
     "output_type": "stream",
     "text": [
      "Apple_is_healthy.\n"
     ]
    }
   ],
   "source": [
    "a=\"Apple is healthy.\"\n",
    "b=\"\"\n",
    "for i in a:\n",
    "    if i==\" \":\n",
    "        b+=\"_\"\n",
    "    else:\n",
    "        b +=i\n",
    "print(b)\n",
    "    "
   ]
  },
  {
   "cell_type": "markdown",
   "id": "b7d6c0b1",
   "metadata": {},
   "source": [
    "Check which elements are common in two lists"
   ]
  },
  {
   "cell_type": "code",
   "execution_count": 2,
   "id": "ce758238",
   "metadata": {},
   "outputs": [
    {
     "name": "stdout",
     "output_type": "stream",
     "text": [
      "[12, 45, 90]\n"
     ]
    }
   ],
   "source": [
    "a=[12,23,45,67,90,10]\n",
    "b=[12,34,45,76,90,100]\n",
    "c=[]\n",
    "for i in a :\n",
    "    if i in b:\n",
    "        c.append(i)\n",
    "print(c)\n"
   ]
  },
  {
   "cell_type": "markdown",
   "id": "2d3da2f6",
   "metadata": {},
   "source": [
    "While loop:"
   ]
  },
  {
   "cell_type": "markdown",
   "id": "e5c44100",
   "metadata": {},
   "source": [
    "Keep removing elements from a list one by one and print the list each time, until it becomes empty"
   ]
  },
  {
   "cell_type": "code",
   "execution_count": 3,
   "id": "5c741c98",
   "metadata": {},
   "outputs": [
    {
     "name": "stdout",
     "output_type": "stream",
     "text": [
      "[12, 34, 56, 89, 60]\n",
      "[12, 34, 56, 89]\n",
      "[12, 34, 56]\n",
      "[12, 34]\n",
      "[12]\n",
      "[]\n"
     ]
    }
   ],
   "source": [
    "a=[12,34,56,89,60,47]\n",
    "while a:\n",
    "    a.pop()\n",
    "    print(a)"
   ]
  },
  {
   "cell_type": "markdown",
   "id": "862df98a",
   "metadata": {},
   "source": [
    "Start from a number and keep dividing it by 2 until it becomes less than 1. Print each value."
   ]
  },
  {
   "cell_type": "code",
   "execution_count": null,
   "id": "0f6ddc46",
   "metadata": {},
   "outputs": [
    {
     "name": "stdout",
     "output_type": "stream",
     "text": [
      "44.0\n",
      "22.0\n",
      "11.0\n",
      "5.5\n",
      "2.75\n",
      "1.375\n",
      "0.6875\n"
     ]
    }
   ],
   "source": [
    "a=88\n",
    "while a>=1:\n",
    "    a=a/2\n",
    "    print(a)"
   ]
  },
  {
   "cell_type": "markdown",
   "id": "859b650c",
   "metadata": {},
   "source": [
    "Ask the user to enter numbers until the total sum crosses 100."
   ]
  },
  {
   "cell_type": "code",
   "execution_count": 12,
   "id": "7f9d2e31",
   "metadata": {},
   "outputs": [
    {
     "name": "stdout",
     "output_type": "stream",
     "text": [
      "the numbers you entered:\n",
      "2\n",
      "3\n",
      "14\n",
      "11111117\n",
      "sum 11111136\n"
     ]
    }
   ],
   "source": [
    "print(\"the numbers you entered:\")\n",
    "a=0\n",
    "while a<101:\n",
    "    b=int(input(\"enter a number:\"))\n",
    "    a=a+b\n",
    "    print(b)\n",
    "print(\"sum\",a)\n",
    "     "
   ]
  },
  {
   "cell_type": "markdown",
   "id": "a3000caf",
   "metadata": {},
   "source": []
  }
 ],
 "metadata": {
  "kernelspec": {
   "display_name": "Python 3",
   "language": "python",
   "name": "python3"
  },
  "language_info": {
   "codemirror_mode": {
    "name": "ipython",
    "version": 3
   },
   "file_extension": ".py",
   "mimetype": "text/x-python",
   "name": "python",
   "nbconvert_exporter": "python",
   "pygments_lexer": "ipython3",
   "version": "3.13.3"
  }
 },
 "nbformat": 4,
 "nbformat_minor": 5
}
